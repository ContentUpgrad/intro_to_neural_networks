{
 "cells": [
  {
   "cell_type": "markdown",
   "id": "looking-election",
   "metadata": {},
   "source": [
    "# Forward Pass"
   ]
  },
  {
   "cell_type": "raw",
   "id": "continuous-royalty",
   "metadata": {},
   "source": [
    "----------------------------------------------------------------------\n",
    "Filename : forward-pass.ipynb\n",
    "Author   : Jaidev Deshpande\n",
    "Content  : Understanding feed forward propagation\n",
    "Libraries: numpy, sklearn and pandas\n",
    "----------------------------------------------------------------------"
   ]
  },
  {
   "cell_type": "code",
   "execution_count": null,
   "id": "understood-island",
   "metadata": {},
   "outputs": [],
   "source": [
    "# Importing libraries\n",
    "\n",
    "from sklearn.datasets import load_iris\n",
    "import pandas as pd\n",
    "import numpy as np"
   ]
  },
  {
   "cell_type": "code",
   "execution_count": null,
   "id": "spoken-clarity",
   "metadata": {},
   "outputs": [],
   "source": [
    "# Load the Iris dataset\n",
    "\n",
    "iris = load_iris()\n",
    "X = iris.data\n",
    "y = iris.target\n",
    "df = pd.DataFrame(X, columns=iris.feature_names)\n",
    "df['species'] = iris.target_names[y]\n",
    "df.sample(n=5)"
   ]
  },
  {
   "cell_type": "markdown",
   "id": "western-consensus",
   "metadata": {},
   "source": [
    "<img src=\"images/ann.png\" height=\"50%\" width=\"50%\">"
   ]
  },
  {
   "cell_type": "code",
   "execution_count": null,
   "id": "detailed-nomination",
   "metadata": {},
   "outputs": [],
   "source": [
    "# Activation functions\n",
    "\n",
    "def sigmoid(x):\n",
    "    return 1 / (1 + np.exp(-x))\n",
    "\n",
    "\n",
    "def softmax(x):\n",
    "    return np.exp(x) / np.exp(x).sum()"
   ]
  },
  {
   "cell_type": "markdown",
   "id": "unable-typing",
   "metadata": {},
   "source": [
    "## Matrix Multiplication\n",
    "<img src=\"images/matmul.png\" height=\"50%\" width=\"50%\"> "
   ]
  },
  {
   "cell_type": "markdown",
   "id": "played-brighton",
   "metadata": {},
   "source": [
    "## Layer 1 Weights, Biases and Activation"
   ]
  },
  {
   "cell_type": "markdown",
   "id": "mounted-penetration",
   "metadata": {},
   "source": [
    "<img src=\"images/ann.png\" height=\"25%\" width=\"25%\">"
   ]
  },
  {
   "cell_type": "code",
   "execution_count": null,
   "id": "loving-metropolitan",
   "metadata": {},
   "outputs": [],
   "source": [
    "df.head()"
   ]
  },
  {
   "cell_type": "code",
   "execution_count": null,
   "id": "split-tension",
   "metadata": {},
   "outputs": [],
   "source": [
    "x = X[:5]\n",
    "x"
   ]
  },
  {
   "cell_type": "code",
   "execution_count": null,
   "id": "cross-finder",
   "metadata": {},
   "outputs": [],
   "source": [
    "# Initialize weights and biases\n",
    "\n",
    "w1 = np.random.rand(4, 5)\n",
    "b1 = np.random.rand(5)\n",
    "print(w1.shape)\n",
    "print(b1.shape)"
   ]
  },
  {
   "cell_type": "code",
   "execution_count": null,
   "id": "recorded-prison",
   "metadata": {},
   "outputs": [],
   "source": [
    "# Take a data sample\n",
    "\n",
    "sample = x[0]\n",
    "sample"
   ]
  },
  {
   "cell_type": "code",
   "execution_count": null,
   "id": "american-access",
   "metadata": {},
   "outputs": [],
   "source": [
    "print(w1)"
   ]
  },
  {
   "cell_type": "code",
   "execution_count": null,
   "id": "governing-reader",
   "metadata": {},
   "outputs": [],
   "source": [
    "# Multiply the sample with the first layer weights <𝐱,𝐰1>\n",
    "\n",
    "a1 = np.dot(sample, w1)\n",
    "a1"
   ]
  },
  {
   "cell_type": "code",
   "execution_count": null,
   "id": "concrete-differential",
   "metadata": {},
   "outputs": [],
   "source": [
    "b1"
   ]
  },
  {
   "cell_type": "code",
   "execution_count": null,
   "id": "institutional-talent",
   "metadata": {},
   "outputs": [],
   "source": [
    "# Add the bias to the product <𝐱,𝐰1>+ b\n",
    "\n",
    "a1 + b1"
   ]
  },
  {
   "cell_type": "code",
   "execution_count": null,
   "id": "balanced-storm",
   "metadata": {},
   "outputs": [],
   "source": [
    "# Apply the activation to get the output of the first layer f(<𝐱,𝐰1>+ b)\n",
    "\n",
    "f1 = sigmoid(a1 + b1)\n",
    "f1"
   ]
  },
  {
   "cell_type": "markdown",
   "id": "promising-exhibit",
   "metadata": {},
   "source": [
    "## Layer 2: Weights, Biases and Activations"
   ]
  },
  {
   "cell_type": "markdown",
   "id": "acknowledged-cruise",
   "metadata": {},
   "source": [
    "<img src=\"images/ann.png\" height=\"25%\" width=\"25%\">"
   ]
  },
  {
   "cell_type": "code",
   "execution_count": null,
   "id": "color-source",
   "metadata": {},
   "outputs": [],
   "source": [
    "w2 = np.random.rand(5, 7)\n",
    "b2 = np.random.rand(7)"
   ]
  },
  {
   "cell_type": "code",
   "execution_count": null,
   "id": "visible-fifth",
   "metadata": {},
   "outputs": [],
   "source": [
    "a2 = np.dot(f1, w2) + b2\n",
    "a2"
   ]
  },
  {
   "cell_type": "code",
   "execution_count": null,
   "id": "radical-serum",
   "metadata": {},
   "outputs": [],
   "source": [
    "f2 = sigmoid(a2)\n",
    "f2"
   ]
  },
  {
   "cell_type": "markdown",
   "id": "ahead-outreach",
   "metadata": {},
   "source": [
    "## Layer 3: Weights, Biases and Activations"
   ]
  },
  {
   "cell_type": "markdown",
   "id": "fuzzy-homeless",
   "metadata": {},
   "source": [
    "<img src=\"images/ann.png\" height=\"25%\" width=\"25%\">"
   ]
  },
  {
   "cell_type": "code",
   "execution_count": null,
   "id": "conventional-white",
   "metadata": {},
   "outputs": [],
   "source": [
    "w3 = np.random.rand(7, 3)\n",
    "b3 = np.random.rand(3)"
   ]
  },
  {
   "cell_type": "code",
   "execution_count": null,
   "id": "beautiful-springfield",
   "metadata": {},
   "outputs": [],
   "source": [
    "a3 = np.dot(f2, w3) + b3\n",
    "a3"
   ]
  },
  {
   "cell_type": "code",
   "execution_count": null,
   "id": "solid-inquiry",
   "metadata": {},
   "outputs": [],
   "source": [
    "f3 = softmax(a3)\n",
    "f3"
   ]
  },
  {
   "cell_type": "code",
   "execution_count": null,
   "id": "valuable-science",
   "metadata": {},
   "outputs": [],
   "source": []
  }
 ],
 "metadata": {
  "kernelspec": {
   "display_name": "Python 3",
   "language": "python",
   "name": "python3"
  },
  "language_info": {
   "codemirror_mode": {
    "name": "ipython",
    "version": 3
   },
   "file_extension": ".py",
   "mimetype": "text/x-python",
   "name": "python",
   "nbconvert_exporter": "python",
   "pygments_lexer": "ipython3",
   "version": "3.7.7"
  }
 },
 "nbformat": 4,
 "nbformat_minor": 5
}
