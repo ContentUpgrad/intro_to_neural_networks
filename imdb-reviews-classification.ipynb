{
 "cells": [
  {
   "cell_type": "markdown",
   "id": "respective-webster",
   "metadata": {},
   "source": [
    "# Text Classification"
   ]
  },
  {
   "cell_type": "raw",
   "id": "adverse-evolution",
   "metadata": {},
   "source": [
    "----------------------------------------------------------------------\n",
    "Filename : imdb-reviews-classification.ipynb\n",
    "Author   : Jaidev Deshpande\n",
    "Purpose  : Understanding text classification using keras\n",
    "Libraries: tensorflow.keras, numpy, sklearn and pandas\n",
    "----------------------------------------------------------------------"
   ]
  },
  {
   "cell_type": "code",
   "execution_count": null,
   "id": "seasonal-balloon",
   "metadata": {},
   "outputs": [],
   "source": [
    "# Imports\n",
    "\n",
    "from tensorflow.keras.preprocessing import text_dataset_from_directory\n",
    "from tensorflow.keras import Sequential\n",
    "from tensorflow.keras.layers import Dense\n",
    "from tensorflow.keras.optimizers import SGD\n",
    "\n",
    "import pandas as pd\n",
    "import numpy as np\n",
    "from sklearn.feature_extraction.text import TfidfVectorizer\n",
    "from sklearn.model_selection import train_test_split\n",
    "import matplotlib.pyplot as plt\n",
    "%matplotlib inline"
   ]
  },
  {
   "cell_type": "markdown",
   "id": "corrected-railway",
   "metadata": {},
   "source": [
    "## The Problem: Large Movie Dataset Review\n",
    "### Classify movie reviews from IMDB into positive or negative sentiment.\n",
    "### Download the dataset [here](https://drive.google.com/drive/u/0/folders/1hYw0TQbwcM2YWEiKN-2c_kHCPtHO_TMC)"
   ]
  },
  {
   "cell_type": "code",
   "execution_count": null,
   "id": "fossil-vertical",
   "metadata": {},
   "outputs": [],
   "source": [
    "# Importing & preprocessing the dataset\n",
    "\n",
    "train_ds = text_dataset_from_directory('aclImdb/train')\n",
    "test_ds = text_dataset_from_directory('aclImdb/test')\n",
    "\n",
    "dfTrain = pd.DataFrame(train_ds.unbatch().as_numpy_iterator(), columns=['text', 'label'])\n",
    "dfTest = pd.DataFrame(test_ds.unbatch().as_numpy_iterator(), columns=['text', 'label'])\n",
    "_, xts = train_test_split(dfTest, stratify=dfTest['label'], test_size=0.25)"
   ]
  },
  {
   "cell_type": "code",
   "execution_count": null,
   "id": "vertical-northern",
   "metadata": {},
   "outputs": [],
   "source": [
    "# Look at a sample movie review\n",
    "\n",
    "print(dfTrain.loc[0, 'text'])"
   ]
  },
  {
   "cell_type": "code",
   "execution_count": null,
   "id": "virgin-illustration",
   "metadata": {},
   "outputs": [],
   "source": [
    "# Look at the label of the review\n",
    "\n",
    "dfTrain.loc[0, 'label']"
   ]
  },
  {
   "cell_type": "code",
   "execution_count": null,
   "id": "sustained-camcorder",
   "metadata": {},
   "outputs": [],
   "source": [
    "pd.options.display.max_colwidth = 100\n",
    "dfTrain.head()"
   ]
  },
  {
   "cell_type": "code",
   "execution_count": null,
   "id": "improved-negotiation",
   "metadata": {},
   "outputs": [],
   "source": [
    "dfTest.head()"
   ]
  },
  {
   "cell_type": "code",
   "execution_count": null,
   "id": "enormous-comment",
   "metadata": {},
   "outputs": [],
   "source": [
    "# Feature Extraction - Text to TFIDF\n",
    "\n",
    "vect = TfidfVectorizer(stop_words='english')\n",
    "XTrain = vect.fit_transform(dfTrain['text']).toarray()\n",
    "XTest = vect.transform(xts['text']).toarray()"
   ]
  },
  {
   "cell_type": "code",
   "execution_count": null,
   "id": "included-healing",
   "metadata": {},
   "outputs": [],
   "source": [
    "XTrain.shape"
   ]
  },
  {
   "cell_type": "code",
   "execution_count": null,
   "id": "according-russia",
   "metadata": {},
   "outputs": [],
   "source": [
    "# Assemble and compile the neural network\n",
    "\n",
    "model = Sequential([\n",
    "    Dense(128, input_shape=(XTrain.shape[1],), activation='relu'),\n",
    "    Dense(128, activation='relu'),\n",
    "    Dense(64, activation='relu'),\n",
    "    Dense(1, activation='sigmoid')\n",
    "])\n",
    "model.compile(loss='binary_crossentropy', optimizer=SGD(lr=1e-3), metrics=['accuracy'])"
   ]
  },
  {
   "cell_type": "code",
   "execution_count": null,
   "id": "protective-parking",
   "metadata": {
    "scrolled": true
   },
   "outputs": [],
   "source": [
    "# Train the neural network\n",
    "\n",
    "history = model.fit(XTrain, dfTrain['label'], batch_size=64, validation_data=(XTest, xts['label']), epochs=50)"
   ]
  },
  {
   "cell_type": "code",
   "execution_count": null,
   "id": "completed-poultry",
   "metadata": {},
   "outputs": [],
   "source": [
    "# Visualize the learning curve\n",
    "\n",
    "plt.plot(history.history['accuracy'], label='Train Accuracy')\n",
    "plt.plot(history.history['val_accuracy'], label='Test Accuracy')\n",
    "plt.legend()"
   ]
  },
  {
   "cell_type": "code",
   "execution_count": null,
   "id": "metallic-office",
   "metadata": {},
   "outputs": [],
   "source": []
  }
 ],
 "metadata": {
  "kernelspec": {
   "display_name": "Python 3",
   "language": "python",
   "name": "python3"
  },
  "language_info": {
   "codemirror_mode": {
    "name": "ipython",
    "version": 3
   },
   "file_extension": ".py",
   "mimetype": "text/x-python",
   "name": "python",
   "nbconvert_exporter": "python",
   "pygments_lexer": "ipython3",
   "version": "3.7.7"
  }
 },
 "nbformat": 4,
 "nbformat_minor": 5
}
